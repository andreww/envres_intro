{
 "cells": [
  {
   "cell_type": "markdown",
   "metadata": {},
   "source": [
    "# Using python to make a map\n",
    "\n",
    "I'm not expecting all of you (or any of you) to have used python in the past,\n",
    "and a couple of hours on a Monday afternoon is probably not a good time to learn.\n",
    "Instead, I've put together a few of these Jupyter notebooks to give you an idea of\n",
    "what can be done.\n",
    "\n",
    "This notebook is probably the simplest and so is a good place to start. The notebook\n",
    "contains a series of cells which can contain formatted text (like this one) or runnable\n",
    "Python code (like the cell below). As each cell runs any output (which could be text or\n",
    "graphics) gets printed below the cell. You can run cells by either pressing shift and \n",
    "enter when you are editing a cell, or by using the 'run' option in the menu bar above.\n",
    "\n",
    "If you run each cell in this notebook in order (i.e. from top to bottom) you should end\n",
    "up with a map showing the locations of broadband seismometers in the British Geological Survey\n",
    "(BGS) network, and a \n",
    "set of locations where people are currently located. Your first task is to run everything in the\n",
    "notebook and look at the code to see if you understand roughly how it works. Once you have\n",
    "run the notebook you should then try to modify it so that the second map shows the location of each person\n",
    "who is taking part in this session. To do this you will need to talk to each other (to find\n",
    "out the latitude and longitude of everyones location), enter this information into the notebook\n",
    "in the right format, and run the cells again. This may take a few attempts. If you want to start\n",
    "the notebook again (saving your changes, but removing the output) you can use the \"Kernel\" and\n",
    "\"Restart & Clear output\" option from the menu above.\n",
    "\n",
    "I have added some further explanation below."
   ]
  },
  {
   "cell_type": "markdown",
   "metadata": {},
   "source": [
    "## First, import some modules\n",
    "\n",
    "We almost always build programs making use of pre-existing building blocks. In python \n",
    "these are available in \"modules\" and \"packages\" and we need to import these before we \n",
    "can use them. For this task we just need three packages. The first, NumPy, is the basis\n",
    "of much scientific computing but for this exercise we'll just use it's ability to read\n",
    "data from files. The second, Matplotlib, is used to make graphs and charts. The third,\n",
    "Cartopy, allows Matplotlib to be used to plot data on maps. Cartopy was originally developed\n",
    "at the UK Met Office and has many fancy features we are not using today."
   ]
  },
  {
   "cell_type": "code",
   "execution_count": null,
   "metadata": {},
   "outputs": [],
   "source": [
    "import numpy as np\n",
    "import matplotlib.pyplot as plt\n",
    "import cartopy.crs as ccrs\n",
    "%matplotlib inline"
   ]
  },
  {
   "cell_type": "markdown",
   "metadata": {},
   "source": [
    "## Second, load some data\n",
    "\n",
    "You have a file called `stations.csv` which includes the locations of the BGS seismometers.\n",
    "The next cell loads locations from this file into an array called `stations`."
   ]
  },
  {
   "cell_type": "code",
   "execution_count": null,
   "metadata": {},
   "outputs": [],
   "source": [
    "stations = np.loadtxt('./stations.csv', delimiter=',')"
   ]
  },
  {
   "cell_type": "markdown",
   "metadata": {},
   "source": [
    "## Third, make the graph\n",
    "\n",
    "There is quite a lot going on here, described by comments in the code.\n",
    "Comments in python start with \"`#`\" and are for you to read (the computer\n",
    "ignores them)."
   ]
  },
  {
   "cell_type": "code",
   "execution_count": null,
   "metadata": {},
   "outputs": [],
   "source": [
    "# Set up plotting area\n",
    "fig, ax = plt.subplots(subplot_kw=dict(projection=ccrs.PlateCarree()),\n",
    "                       figsize=(12,12)) \n",
    "\n",
    "# Plot station locations as points on a scatter graph\n",
    "ax.scatter(stations[:,0], stations[:,1], marker='o', color='r')\n",
    "\n",
    "# Add \"map\" information too\n",
    "ax.coastlines(resolution='10m')\n",
    "ax.gridlines(draw_labels=True)\n",
    "\n",
    "# Add some text\n",
    "ax.text(-6.0, 61.5, \"BGS broadband seismometer\\nnetwork\", color='r', fontsize=20)\n",
    "\n",
    "# Finally, draw the finished graph\n",
    "plt.show()"
   ]
  },
  {
   "cell_type": "markdown",
   "metadata": {},
   "source": [
    "## Data about us\n",
    "\n",
    "The next cell sets up a data structure describing the people taking part in this session, or it will\n",
    "once you've added extra information. You will need to think about how the data is arranged so that you\n",
    "can add more people. Is this structure better or worse than the structure used (`stations`) to record the\n",
    "points for the previous map?  "
   ]
  },
  {
   "cell_type": "code",
   "execution_count": null,
   "metadata": {},
   "outputs": [],
   "source": [
    "people = [{'name': 'Andrew', 'x': -1.5492, 'y': 53.7997},\n",
    "          {'name': 'Nessie', 'x': -4 + 27/60, 'y': 57 + 18/60}]"
   ]
  },
  {
   "cell_type": "markdown",
   "metadata": {},
   "source": [
    "## Make the map\n",
    "\n",
    "Can you see the differences and similarities between this map and the previous one? Which approach is better?"
   ]
  },
  {
   "cell_type": "code",
   "execution_count": null,
   "metadata": {},
   "outputs": [],
   "source": [
    "fig, ax = plt.subplots(subplot_kw=dict(projection=ccrs.PlateCarree()),\n",
    "                       figsize=(12,12)) \n",
    "\n",
    "# left, right, bottom, top\n",
    "ax.set_extent([-10, 5, 50, 60])\n",
    "\n",
    "# Plot station locations here using ax.scatter()\n",
    "for person in people:\n",
    "    ax.plot(person['x'], person['y'], marker='.', color='r')\n",
    "    ax.annotate(person['name'], (person['x'], person['y']))\n",
    "\n",
    "ax.coastlines(resolution='10m')\n",
    "ax.gridlines(draw_labels=True)\n",
    "\n",
    "ax.set_title(\"Where we are now\", fontsize=20)\n",
    "\n",
    "plt.show()"
   ]
  },
  {
   "cell_type": "code",
   "execution_count": null,
   "metadata": {},
   "outputs": [],
   "source": []
  }
 ],
 "metadata": {
  "kernelspec": {
   "display_name": "Python 3",
   "language": "python",
   "name": "python3"
  },
  "language_info": {
   "codemirror_mode": {
    "name": "ipython",
    "version": 3
   },
   "file_extension": ".py",
   "mimetype": "text/x-python",
   "name": "python",
   "nbconvert_exporter": "python",
   "pygments_lexer": "ipython3",
   "version": "3.7.3"
  }
 },
 "nbformat": 4,
 "nbformat_minor": 4
}
